{
 "cells": [
  {
   "cell_type": "code",
   "execution_count": 6,
   "id": "1b981dfc-5ff7-4bfe-b3fc-a703723cc2b0",
   "metadata": {},
   "outputs": [
    {
     "name": "stdout",
     "output_type": "stream",
     "text": [
      "Library versions have been written to requirements.txt\n"
     ]
    }
   ],
   "source": [
    "import pkg_resources\n",
    "\n",
    "# Input file with library names (without versions)\n",
    "input_file = 'libraries.txt'\n",
    "# Output file with library names and their versions\n",
    "output_file = 'requirements.txt'\n",
    "\n",
    "# Read the library names from the input file\n",
    "with open(input_file, 'r') as file:\n",
    "    libraries = [line.strip() for line in file.readlines()]\n",
    "\n",
    "# Open the output file to write the libraries and their versions\n",
    "with open(output_file, 'w') as output:\n",
    "    for lib in libraries:\n",
    "        try:\n",
    "            # Get the installed version of the library\n",
    "            version = pkg_resources.get_distribution(lib).version\n",
    "            # Write the library and its version to the output file\n",
    "            output.write(f'{lib}=={version}\\n')\n",
    "        except pkg_resources.DistributionNotFound:\n",
    "            # If the library is not found, print an error message\n",
    "            output.write(f'{lib}==<NOT INSTALLED>\\n')\n",
    "            print(f'Library \"{lib}\" is not installed.')\n",
    "\n",
    "print(f\"Library versions have been written to {output_file}\")\n"
   ]
  },
  {
   "cell_type": "code",
   "execution_count": 7,
   "id": "5ae11d21-6d7d-46d1-a7ec-a0b86fb3b2de",
   "metadata": {},
   "outputs": [],
   "source": [
    "def extractVersion():\n",
    "    import pkg_resources\n",
    "\n",
    "    # Input file with library names (without versions)\n",
    "    input_file = 'libraries.txt'\n",
    "    # Output file with library names and their versions\n",
    "    output_file = 'requirements.txt'\n",
    "    \n",
    "    # Read the library names from the input file\n",
    "    with open(input_file, 'r') as file:\n",
    "        libraries = [line.strip() for line in file.readlines()]\n",
    "    \n",
    "    # Open the output file to write the libraries and their versions\n",
    "    with open(output_file, 'w') as output:\n",
    "        for lib in libraries:\n",
    "            try:\n",
    "                # Get the installed version of the library\n",
    "                version = pkg_resources.get_distribution(lib).version\n",
    "                # Write the library and its version to the output file\n",
    "                output.write(f'{lib}=={version}\\n')\n",
    "            except pkg_resources.DistributionNotFound:\n",
    "                # If the library is not found, print an error message\n",
    "                output.write(f'{lib}==<NOT INSTALLED>\\n')\n",
    "                print(f'Library \"{lib}\" is not installed.')\n",
    "    \n",
    "    print(f\"Library versions have been written to {output_file}\")"
   ]
  },
  {
   "cell_type": "code",
   "execution_count": 8,
   "id": "b9b2b2f7-157e-4b55-8e51-c0a759008a76",
   "metadata": {},
   "outputs": [
    {
     "name": "stdout",
     "output_type": "stream",
     "text": [
      "Library versions have been written to requirements.txt\n"
     ]
    }
   ],
   "source": [
    "extractVersion()"
   ]
  },
  {
   "cell_type": "code",
   "execution_count": 4,
   "id": "bc4b1f05-36f6-488d-b997-77ad08bf1cb0",
   "metadata": {},
   "outputs": [
    {
     "name": "stdout",
     "output_type": "stream",
     "text": [
      "Collecting Flask\n",
      "  Downloading flask-3.1.0-py3-none-any.whl.metadata (2.7 kB)\n",
      "Collecting Werkzeug>=3.1 (from Flask)\n",
      "  Downloading werkzeug-3.1.3-py3-none-any.whl.metadata (3.7 kB)\n",
      "Requirement already satisfied: Jinja2>=3.1.2 in c:\\anoconda3\\envs\\aiml\\lib\\site-packages (from Flask) (3.1.5)\n",
      "Collecting itsdangerous>=2.2 (from Flask)\n",
      "  Downloading itsdangerous-2.2.0-py3-none-any.whl.metadata (1.9 kB)\n",
      "Requirement already satisfied: click>=8.1.3 in c:\\anoconda3\\envs\\aiml\\lib\\site-packages (from Flask) (8.1.8)\n",
      "Collecting blinker>=1.9 (from Flask)\n",
      "  Downloading blinker-1.9.0-py3-none-any.whl.metadata (1.6 kB)\n",
      "Requirement already satisfied: colorama in c:\\anoconda3\\envs\\aiml\\lib\\site-packages (from click>=8.1.3->Flask) (0.4.6)\n",
      "Requirement already satisfied: MarkupSafe>=2.0 in c:\\anoconda3\\envs\\aiml\\lib\\site-packages (from Jinja2>=3.1.2->Flask) (2.1.5)\n",
      "Downloading flask-3.1.0-py3-none-any.whl (102 kB)\n",
      "Downloading blinker-1.9.0-py3-none-any.whl (8.5 kB)\n",
      "Downloading itsdangerous-2.2.0-py3-none-any.whl (16 kB)\n",
      "Downloading werkzeug-3.1.3-py3-none-any.whl (224 kB)\n",
      "Installing collected packages: Werkzeug, itsdangerous, blinker, Flask\n",
      "Successfully installed Flask-3.1.0 Werkzeug-3.1.3 blinker-1.9.0 itsdangerous-2.2.0\n",
      "Note: you may need to restart the kernel to use updated packages.\n"
     ]
    }
   ],
   "source": [
    "pip install Flask"
   ]
  },
  {
   "cell_type": "code",
   "execution_count": 5,
   "id": "04be4671-26ed-4226-bf8b-c5a72dbaadb6",
   "metadata": {},
   "outputs": [
    {
     "name": "stdout",
     "output_type": "stream",
     "text": [
      "Collecting nltk\n",
      "  Downloading nltk-3.9.1-py3-none-any.whl.metadata (2.9 kB)\n",
      "Requirement already satisfied: click in c:\\anoconda3\\envs\\aiml\\lib\\site-packages (from nltk) (8.1.8)\n",
      "Requirement already satisfied: joblib in c:\\anoconda3\\envs\\aiml\\lib\\site-packages (from nltk) (1.4.2)\n",
      "Collecting regex>=2021.8.3 (from nltk)\n",
      "  Downloading regex-2024.11.6-cp313-cp313-win_amd64.whl.metadata (41 kB)\n",
      "Requirement already satisfied: tqdm in c:\\anoconda3\\envs\\aiml\\lib\\site-packages (from nltk) (4.67.1)\n",
      "Requirement already satisfied: colorama in c:\\anoconda3\\envs\\aiml\\lib\\site-packages (from click->nltk) (0.4.6)\n",
      "Downloading nltk-3.9.1-py3-none-any.whl (1.5 MB)\n",
      "   ---------------------------------------- 0.0/1.5 MB ? eta -:--:--\n",
      "   ---------------------------------------- 1.5/1.5 MB 19.9 MB/s eta 0:00:00\n",
      "Downloading regex-2024.11.6-cp313-cp313-win_amd64.whl (273 kB)\n",
      "Installing collected packages: regex, nltk\n",
      "Successfully installed nltk-3.9.1 regex-2024.11.6\n",
      "Note: you may need to restart the kernel to use updated packages.\n"
     ]
    }
   ],
   "source": [
    "pip install nltk\n"
   ]
  },
  {
   "cell_type": "code",
   "execution_count": null,
   "id": "ed2877fa-629e-46b9-9f46-12f209e90354",
   "metadata": {},
   "outputs": [],
   "source": []
  }
 ],
 "metadata": {
  "kernelspec": {
   "display_name": "Python 3 (ipykernel)",
   "language": "python",
   "name": "python3"
  },
  "language_info": {
   "codemirror_mode": {
    "name": "ipython",
    "version": 3
   },
   "file_extension": ".py",
   "mimetype": "text/x-python",
   "name": "python",
   "nbconvert_exporter": "python",
   "pygments_lexer": "ipython3",
   "version": "3.13.1"
  }
 },
 "nbformat": 4,
 "nbformat_minor": 5
}
